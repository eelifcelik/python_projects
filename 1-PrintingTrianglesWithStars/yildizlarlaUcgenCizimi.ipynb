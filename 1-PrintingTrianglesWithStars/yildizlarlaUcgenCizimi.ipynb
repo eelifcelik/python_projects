{
 "cells": [
  {
   "cell_type": "markdown",
   "metadata": {},
   "source": [
    "### Yıldızlarla Üçgen Çizimi \n",
    "\n",
    "##### Bu jupyter notebook'unda pythonda yıldız karakterleri kullanılarak çeşitli üçgen çizimleri yapılmıştır. \n"
   ]
  },
  {
   "cell_type": "code",
   "execution_count": 1,
   "metadata": {},
   "outputs": [
    {
     "name": "stdout",
     "output_type": "stream",
     "text": [
      "*-\n",
      "*-*-\n",
      "*-*-*-\n",
      "*-*-*-*-\n",
      "*-*-*-*-*-\n"
     ]
    }
   ],
   "source": [
    "rows = 5\n",
    "for i in range(1, rows + 1):\n",
    "  for j in range(1, i+1):\n",
    "    print(\"*\", end= \"-\")\n",
    "  print() "
   ]
  },
  {
   "cell_type": "code",
   "execution_count": 2,
   "metadata": {},
   "outputs": [
    {
     "name": "stdout",
     "output_type": "stream",
     "text": [
      "         *\n",
      "        **\n",
      "       ***\n",
      "      ****\n",
      "     *****\n",
      "    ******\n",
      "   *******\n",
      "  ********\n",
      " *********\n"
     ]
    }
   ],
   "source": [
    "for i in range(1,10):\n",
    "       print(\" \"* (10-i) + \"*\"*i)"
   ]
  },
  {
   "cell_type": "code",
   "execution_count": 3,
   "metadata": {},
   "outputs": [
    {
     "name": "stdout",
     "output_type": "stream",
     "text": [
      "**********\n",
      "*********\n",
      "********\n",
      "*******\n",
      "******\n",
      "*****\n",
      "****\n",
      "***\n",
      "**\n"
     ]
    }
   ],
   "source": [
    "for i in range(10,1,-1):\n",
    "       print(\" \"* (i-10) + \"*\"*i)"
   ]
  },
  {
   "cell_type": "code",
   "execution_count": 4,
   "metadata": {},
   "outputs": [
    {
     "name": "stdout",
     "output_type": "stream",
     "text": [
      "*\n",
      "**\n",
      "***\n",
      "****\n",
      "*****\n"
     ]
    }
   ],
   "source": [
    "rows = 5 \n",
    "for i in range(0, rows):\n",
    "  for j in range(0, i+1):\n",
    "    print(\"*\", end=\"\")\n",
    "  print()  "
   ]
  },
  {
   "cell_type": "code",
   "execution_count": 5,
   "metadata": {},
   "outputs": [
    {
     "name": "stdout",
     "output_type": "stream",
     "text": [
      "*****\n",
      "****\n",
      "***\n",
      "**\n",
      "*\n"
     ]
    }
   ],
   "source": [
    "rows = 5\n",
    "for i in range(rows, 0, -1):\n",
    "  for j in range(0, i):\n",
    "    print(\"*\", end=\"\")\n",
    "  print()  "
   ]
  },
  {
   "cell_type": "code",
   "execution_count": 6,
   "metadata": {},
   "outputs": [
    {
     "name": "stdout",
     "output_type": "stream",
     "text": [
      "*****\n",
      "****\n",
      "***\n",
      "**\n",
      "*\n"
     ]
    }
   ],
   "source": [
    "rows = 5\n",
    "for i in range(rows, 0, -1):\n",
    "  print(\"*\"*i)"
   ]
  },
  {
   "cell_type": "code",
   "execution_count": 7,
   "metadata": {},
   "outputs": [
    {
     "name": "stdout",
     "output_type": "stream",
     "text": [
      "*\n",
      "**\n",
      "***\n",
      "****\n",
      "*****\n"
     ]
    }
   ],
   "source": [
    "row = 5\n",
    "for i in range(0, rows):\n",
    "  for j in range(0, i+1):\n",
    "    if j == 0:\n",
    "      print(\"\"*(rows - i) + \"*\", end=\"\")\n",
    "    else: \n",
    "      print(\"*\", end=\"\")\n",
    "  print()    "
   ]
  },
  {
   "cell_type": "code",
   "execution_count": 8,
   "metadata": {},
   "outputs": [
    {
     "name": "stdout",
     "output_type": "stream",
     "text": [
      "    *\n",
      "   **\n",
      "  ***\n",
      " ****\n",
      "*****\n"
     ]
    }
   ],
   "source": [
    "for i in range(1, rows + 1):\n",
    "  print(\" \"*(rows - i) + \"*\"*i)"
   ]
  },
  {
   "cell_type": "code",
   "execution_count": 9,
   "metadata": {},
   "outputs": [
    {
     "name": "stdout",
     "output_type": "stream",
     "text": [
      "*****\n",
      " ****\n",
      "  ***\n",
      "   **\n",
      "    *\n"
     ]
    }
   ],
   "source": [
    "rows = 5\n",
    "for i in range(row, 0, -1):\n",
    "  for j in range(0, i):\n",
    "    if j == 0:\n",
    "      print(\" \"*(rows-i) + \"*\", end=\"\")\n",
    "    else:\n",
    "      print(\"*\", end=\"\")\n",
    "  print()     "
   ]
  },
  {
   "cell_type": "code",
   "execution_count": 10,
   "metadata": {},
   "outputs": [
    {
     "name": "stdout",
     "output_type": "stream",
     "text": [
      "*****\n",
      " ****\n",
      "  ***\n",
      "   **\n",
      "    *\n"
     ]
    }
   ],
   "source": [
    "rows = 5\n",
    "for i in range(0,rows):\n",
    "  print(\" \"*i+ \"*\"*(rows - i))"
   ]
  },
  {
   "cell_type": "code",
   "execution_count": 11,
   "metadata": {},
   "outputs": [
    {
     "name": "stdout",
     "output_type": "stream",
     "text": [
      "    **    \n",
      "   ****   \n",
      "  ******  \n",
      " ******** \n",
      "**********\n"
     ]
    }
   ],
   "source": [
    "rows = 5\n",
    "\n",
    "for i in range(1, rows + 1):\n",
    "  print(\" \"*(rows - i) + \"*\"*2*i + \" \"*(rows - i))"
   ]
  },
  {
   "cell_type": "code",
   "execution_count": 12,
   "metadata": {},
   "outputs": [
    {
     "name": "stdout",
     "output_type": "stream",
     "text": [
      "*\n",
      "**\n",
      "***\n",
      "****\n",
      "*****\n"
     ]
    }
   ],
   "source": [
    "row = 5\n",
    "for i in range(0, rows):\n",
    "  for j in range(0, i+1):\n",
    "    if j == 0:\n",
    "      print(\"\"*(rows - i) + \"*\", end=\"\")\n",
    "    else: \n",
    "      print(\"*\", end=\"\")\n",
    "  print()#bunu aşağıya kaydırmak için yapıyoruz "
   ]
  }
 ],
 "metadata": {
  "interpreter": {
   "hash": "ba57b5c07cad94e5433208df9cadbee49a44e5bdb5807e0776fdc905c4d111fd"
  },
  "kernelspec": {
   "display_name": "Python 3.9.13 64-bit (windows store)",
   "language": "python",
   "name": "python3"
  },
  "language_info": {
   "codemirror_mode": {
    "name": "ipython",
    "version": 3
   },
   "file_extension": ".py",
   "mimetype": "text/x-python",
   "name": "python",
   "nbconvert_exporter": "python",
   "pygments_lexer": "ipython3",
   "version": "3.9.13"
  },
  "orig_nbformat": 4
 },
 "nbformat": 4,
 "nbformat_minor": 2
}
