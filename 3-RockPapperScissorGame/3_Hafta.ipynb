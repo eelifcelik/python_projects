{
 "cells": [
  {
   "cell_type": "code",
   "execution_count": 1,
   "metadata": {},
   "outputs": [
    {
     "name": "stdout",
     "output_type": "stream",
     "text": [
      "Hello Dünyalılar!\n"
     ]
    }
   ],
   "source": [
    "'''\n",
    "Fonksiyonlar \n",
    "def(* Required)\n",
    "return()\n",
    "'''\n",
    "\n",
    "#Parametresiz Fonksiyonlar\n",
    "def sayHello():\n",
    "    print(\"Hello Dünyalılar!\")\n",
    "\n",
    "sayHello()    "
   ]
  },
  {
   "cell_type": "code",
   "execution_count": 3,
   "metadata": {},
   "outputs": [
    {
     "name": "stdout",
     "output_type": "stream",
     "text": [
      "Merhaba Elif aramıza hoş geldin!\n"
     ]
    }
   ],
   "source": [
    "#Parametre alan Fonksiyonlar\n",
    "\n",
    "def sayHello(name):\n",
    "    print(\"Merhaba {} aramıza hoş geldin!\".format(name))\n",
    "\n",
    "sayHello(\"Elif\")    "
   ]
  },
  {
   "cell_type": "code",
   "execution_count": 2,
   "metadata": {},
   "outputs": [
    {
     "name": "stdout",
     "output_type": "stream",
     "text": [
      "12\n"
     ]
    }
   ],
   "source": [
    "#İki sayının toplamını geri döndüren fonksiyonu yazalım\n",
    "\n",
    "def add(num1, num2):\n",
    "    result = num1 + num2\n",
    "    \n",
    "    return result    \n",
    "\n",
    "result = add(3,9)  \n",
    "print(result)"
   ]
  },
  {
   "cell_type": "code",
   "execution_count": 4,
   "metadata": {},
   "outputs": [
    {
     "name": "stdout",
     "output_type": "stream",
     "text": [
      "12\n"
     ]
    }
   ],
   "source": [
    "def add(num1, num2):\n",
    "    return(num1 + num2)\n",
    "\n",
    "print(add(3,9))    "
   ]
  },
  {
   "cell_type": "code",
   "execution_count": 10,
   "metadata": {},
   "outputs": [
    {
     "name": "stdout",
     "output_type": "stream",
     "text": [
      "15\n"
     ]
    }
   ],
   "source": [
    "from random import randint\n",
    "\n",
    "print(randint(10, 20))"
   ]
  },
  {
   "cell_type": "code",
   "execution_count": 12,
   "metadata": {},
   "outputs": [
    {
     "name": "stdout",
     "output_type": "stream",
     "text": [
      "Toplama:  12\n",
      "Çıkarma:  8\n",
      "Çarpma:  20\n",
      "Bölme:  5.0\n",
      "Int Bölme:  5\n"
     ]
    }
   ],
   "source": [
    "#4 işlemi yapan bir hesap makinesi \n",
    "\n",
    "def calculator(num1, num2):\n",
    "\n",
    "    add = num1 + num2\n",
    "    sub = num1 - num2\n",
    "    multi = num1 * num2\n",
    "    div = num1 / num2\n",
    "    intdiv = num1 // num2\n",
    "\n",
    "    return add, sub, multi, div, intdiv\n",
    "\n",
    "\n",
    "a, b, c, d, e = calculator(10,2) \n",
    "\n",
    "print(\"Toplama: \", a)\n",
    "print(\"Cikarma: \", b)\n",
    "print(\"Carpma: \", c)\n",
    "print(\"Bolme: \", d)\n",
    "print(\"Int Bolme: \", e)"
   ]
  },
  {
   "cell_type": "code",
   "execution_count": 13,
   "metadata": {},
   "outputs": [
    {
     "name": "stdout",
     "output_type": "stream",
     "text": [
      "Fonksiyon içerisinde global değişken GLOBAL, yerel değişken YEREL\n"
     ]
    }
   ],
   "source": [
    "#Fonksiyonlar içerisinde değişkenlerin kapsamı\n",
    "\n",
    "global_variable = \"GLOBAL\"\n",
    "\n",
    "def func():\n",
    "    local_variable = \"YEREL\"\n",
    "    print(\"Fonksiyon içerisinde global değişken {}, yerel değişken {}\".format(global_variable,local_variable))\n",
    "\n",
    "func()    \n",
    "#print(\"Fonksiyon içerisinde global değişken {}, yerel değişken {}\".format(global_variable,local_variable))\n",
    "#Ustteki line'ı yazdırırken local variable sadece fonksiyon içini kapsadığı için local_variable kısmında hata veriyor"
   ]
  },
  {
   "cell_type": "code",
   "execution_count": 14,
   "metadata": {},
   "outputs": [
    {
     "name": "stdout",
     "output_type": "stream",
     "text": [
      "4\n",
      "8\n",
      "4\n"
     ]
    }
   ],
   "source": [
    "a = 4\n",
    "\n",
    "def print_a():\n",
    "    print(a)\n",
    "\n",
    "def print_a2():\n",
    "    a = 8\n",
    "    print(a)    \n",
    "\n",
    "def print_a3():\n",
    "    print(a)\n",
    "\n",
    "print_a()\n",
    "print_a2()\n",
    "print_a3()   "
   ]
  },
  {
   "cell_type": "code",
   "execution_count": 15,
   "metadata": {},
   "outputs": [
    {
     "name": "stdout",
     "output_type": "stream",
     "text": [
      "4\n",
      "8\n",
      "8\n"
     ]
    }
   ],
   "source": [
    "a = 4\n",
    "\n",
    "def print_a():\n",
    "    print(a)\n",
    "\n",
    "def print_a2():    \n",
    "    global a \n",
    "    a = 8\n",
    "    print(a)    \n",
    "\n",
    "def print_a3():\n",
    "    print(a)\n",
    "\n",
    "print_a()\n",
    "print_a2()\n",
    "print_a3() "
   ]
  },
  {
   "cell_type": "code",
   "execution_count": 17,
   "metadata": {},
   "outputs": [
    {
     "name": "stdout",
     "output_type": "stream",
     "text": [
      "Hello Elif\n",
      "Hello Katılımcılar\n"
     ]
    }
   ],
   "source": [
    "def sayHello(name = \"Katılımcılar\"):\n",
    "    print(\"Hello\", name)\n",
    "\n",
    "sayHello(\"Elif\") #gönderilen parametreyi alır\n",
    "sayHello() #Default parametreyi alıp kullanır    "
   ]
  },
  {
   "cell_type": "code",
   "execution_count": 18,
   "metadata": {},
   "outputs": [
    {
     "name": "stdout",
     "output_type": "stream",
     "text": [
      "Toplam:  0\n",
      "Toplam:  14\n",
      "Toplam:  51.4\n"
     ]
    }
   ],
   "source": [
    "#parametre olarak gelen değerlerin toplamını ekrana basan fonksiyonu yazalım\n",
    "def add(*numbers):\n",
    "    total = 0\n",
    "    for i in numbers:\n",
    "        total += i\n",
    "    print(\"Toplam: \", total)\n",
    "\n",
    "#0 parametre\n",
    "add()\n",
    "\n",
    "#4 parametreli\n",
    "add(1, 4, 6, 3)\n",
    "\n",
    "#2 parametreli\n",
    "add(49, 2.4)"
   ]
  },
  {
   "cell_type": "code",
   "execution_count": 23,
   "metadata": {},
   "outputs": [
    {
     "name": "stdout",
     "output_type": "stream",
     "text": [
      "6\n",
      "8\n",
      "10\n",
      "12\n",
      "14\n",
      "ortalama:  10.0\n"
     ]
    }
   ],
   "source": [
    "#Kullanıcının girdiği 2 sayı arasındaki çift sayıları ekrana yazdıralım. \n",
    "#Ardından sayıların ortalamasını hesaplayalım. \n",
    "\n",
    "first = int(input(\"Başlangıç değerini girin: \"))\n",
    "last = int(input(\"Bitiş değerini girin: \"))\n",
    "total, count = 0, 0\n",
    "\n",
    "\n",
    "for i in range(first, last + 1 ):\n",
    "    if(i%2 == 0):\n",
    "        total +=i\n",
    "        count +=1\n",
    "        print(i)\n",
    "\n",
    "print(\"ortalama: \",total/count)       "
   ]
  },
  {
   "cell_type": "code",
   "execution_count": null,
   "metadata": {},
   "outputs": [],
   "source": [
    "def is_even(num):\n",
    "    if num % 2 == 0:\n",
    "        return True\n",
    "    else:\n",
    "        return False\n",
    "\n",
    "total, count = 0, 0\n",
    "first = int(input(\"Başlangıç değeri \")) \n",
    "last = int(input(\"Bitiş değeri \"))\n",
    "\n",
    "for i in range(first, last + 1):\n",
    "    if is_even(i):\n",
    "        print(i)\n",
    "        total +=i\n",
    "        count +=1\n",
    "\n",
    "print(\"Ortalama\", total/count)"
   ]
  },
  {
   "cell_type": "code",
   "execution_count": 28,
   "metadata": {},
   "outputs": [
    {
     "name": "stdout",
     "output_type": "stream",
     "text": [
      "True\n",
      "False\n",
      "True\n"
     ]
    }
   ],
   "source": [
    "#Bir sayının asal olup olmadığını bir fonksiyon ile bulup ekrana yazalım.\n",
    "\n",
    "def isPrime(a):\n",
    "\n",
    "    for i in range(2,a):\n",
    "        if(a%i==0):\n",
    "            return False\n",
    "    return True   \n",
    "\n",
    "#print(isPrime(7))\n",
    "#print(isPrime(15))\n",
    "#print(isPrime(2))             "
   ]
  },
  {
   "cell_type": "code",
   "execution_count": null,
   "metadata": {},
   "outputs": [],
   "source": [
    "def isPrime(a):\n",
    "    i = 2\n",
    "    while i < a:\n",
    "        if a % i == 0:\n",
    "            return \"Sayı Asal Değildir\"\n",
    "        i += 1\n",
    "\n",
    "    else:\n",
    "        return \"Sayı Asaldır\""
   ]
  },
  {
   "cell_type": "code",
   "execution_count": 41,
   "metadata": {},
   "outputs": [
    {
     "name": "stdout",
     "output_type": "stream",
     "text": [
      "[3, 17]\n"
     ]
    }
   ],
   "source": [
    "#Girilen değerin asal çarpanlarını yazalım\n",
    "\n",
    "def isPrime(a):\n",
    "    i = 2\n",
    "    while i < a:\n",
    "        if a % i == 0:\n",
    "            return False\n",
    "        i += 1\n",
    "    else:\n",
    "        return True\n",
    "\n",
    "\n",
    "def asalCarpan(n):\n",
    "    carpanlar = [] #bos liste\n",
    "    j = 2\n",
    "    while n > 1:\n",
    "        if n % j == 0 and isPrime(j):\n",
    "            carpanlar.append(j)\n",
    "            n /= j\n",
    "        j += 1\n",
    "    return carpanlar        \n",
    "\n",
    "print(asalCarpan(51))"
   ]
  },
  {
   "cell_type": "markdown",
   "metadata": {},
   "source": [
    "3. Hafta ilk ders sonu "
   ]
  }
 ],
 "metadata": {
  "interpreter": {
   "hash": "fe67e61fd9d2b70ed8f92c49f62751859bd55f051355292b986eb5fb0158d339"
  },
  "kernelspec": {
   "display_name": "Python 3.10.0 64-bit",
   "language": "python",
   "name": "python3"
  },
  "language_info": {
   "codemirror_mode": {
    "name": "ipython",
    "version": 3
   },
   "file_extension": ".py",
   "mimetype": "text/x-python",
   "name": "python",
   "nbconvert_exporter": "python",
   "pygments_lexer": "ipython3",
   "version": "3.10.0"
  },
  "orig_nbformat": 4
 },
 "nbformat": 4,
 "nbformat_minor": 2
}
