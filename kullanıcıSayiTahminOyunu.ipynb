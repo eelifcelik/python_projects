{
 "cells": [
  {
   "cell_type": "markdown",
   "metadata": {},
   "source": [
    "### Kullanıcı Sayı Tahmin Oyunu\n",
    "\n",
    "##### Kullanıcı 0-100 arası bir sayı belirler ve bunu input olarak girer. Bilgisayar ise random denemeler ile bu sayıyı tahmin etmeye çalışır. "
   ]
  },
  {
   "cell_type": "code",
   "execution_count": 1,
   "metadata": {},
   "outputs": [
    {
     "name": "stdout",
     "output_type": "stream",
     "text": [
      "Tebrikler doğru tahminde bulundunuz\n"
     ]
    }
   ],
   "source": [
    "import random\n",
    "\n",
    "def computer_guess(num):\n",
    "  start, end = 1, 100\n",
    "  back = ''\n",
    "  while back != \"d\":\n",
    "    if start <= end:\n",
    "      guess = random.randint(start,end)\n",
    "    else:\n",
    "      guess = start\n",
    "\n",
    "    back = input(f\"Tahminde bulunduğum deger {guess}, aklında tuttuğun değerden büyükse b, küçükse k, doğru ise d değerini gir: \")\n",
    "\n",
    "    if back == 'b':\n",
    "      end = guess - 1\n",
    "    elif back == 'k':\n",
    "      start = guess + 1 \n",
    "    elif back !='d':\n",
    "      print(\"Yanlış ifade kullandınız\")\n",
    "      break\n",
    "      \n",
    "  print(\"Tebrikler doğru tahminde bulundunuz\")  \n",
    "\n",
    "sayi = int(input(\"Lütfen aklında tuttuğunuz değeri girin: \"))\n",
    "\n",
    "computer_guess(sayi)"
   ]
  }
 ],
 "metadata": {
  "interpreter": {
   "hash": "ba57b5c07cad94e5433208df9cadbee49a44e5bdb5807e0776fdc905c4d111fd"
  },
  "kernelspec": {
   "display_name": "Python 3.9.13 64-bit (windows store)",
   "language": "python",
   "name": "python3"
  },
  "language_info": {
   "codemirror_mode": {
    "name": "ipython",
    "version": 3
   },
   "file_extension": ".py",
   "mimetype": "text/x-python",
   "name": "python",
   "nbconvert_exporter": "python",
   "pygments_lexer": "ipython3",
   "version": "3.9.13"
  },
  "orig_nbformat": 4
 },
 "nbformat": 4,
 "nbformat_minor": 2
}
