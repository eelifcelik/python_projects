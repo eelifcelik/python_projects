{
 "cells": [
  {
   "cell_type": "markdown",
   "metadata": {},
   "source": [
    "### Sayı Tahmin Oyunu\n",
    "\n",
    "##### Bu jupyter notebook'unda sayı tahmin oyunu yer almaktadır. Oyun bilgisayarın 1 ve 100 arasındaki seçtiği random sayıyı tahmin etmeye dayalıdır. Her bir tahmin sonrası değer karşılaştırılır. Büyüklüğe veya küçüklüğe göre tekrar tahmin yapılması istenir.  "
   ]
  },
  {
   "cell_type": "code",
   "execution_count": null,
   "metadata": {},
   "outputs": [],
   "source": [
    "import random\n",
    "\n",
    "def guess(num):\n",
    "  count = 1\n",
    "  random_number = int(input(\"Sayı tahmin oyunu için bir tahminde bulunun: \"))\n",
    "\n",
    "  while num != random_number:\n",
    "    count +=1\n",
    "    if num < random_number:\n",
    "      print(\"Üzgünüm daha küçük bir sayı tahmininde bulunmalıydın.\")\n",
    "    else:\n",
    "      print(\"Üzgünüm daha büyük bir sayı tahmininde bulunmalıydın.\")\n",
    "    random_number = int(input(\"Sayı tahmin oyunu için bir tahminde bulunun: \"))\n",
    "  if count == 1:\n",
    "    print(\"Tebrikler tahmin oyununda gerçekten iyisin\")\n",
    "  elif count < 5:\n",
    "    print(\"Eh işte iyi sayılırsın\")\n",
    "  else:\n",
    "    print(\"Hiç oynamasan daha iyi bence\")\n",
    "\n",
    "guess(random.randint(1,100))"
   ]
  }
 ],
 "metadata": {
  "interpreter": {
   "hash": "ba57b5c07cad94e5433208df9cadbee49a44e5bdb5807e0776fdc905c4d111fd"
  },
  "kernelspec": {
   "display_name": "Python 3.9.13 64-bit (windows store)",
   "language": "python",
   "name": "python3"
  },
  "language_info": {
   "name": "python",
   "version": "3.9.13"
  },
  "orig_nbformat": 4
 },
 "nbformat": 4,
 "nbformat_minor": 2
}
