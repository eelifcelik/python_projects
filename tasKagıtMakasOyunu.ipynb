{
 "cells": [
  {
   "cell_type": "markdown",
   "metadata": {},
   "source": [
    "### Taş Kağıt Makas Oyunu\n",
    "\n",
    "##### Taş kağıt makas oyununu simüle eden bir bilgisayar oyunu. "
   ]
  },
  {
   "cell_type": "code",
   "execution_count": null,
   "metadata": {},
   "outputs": [],
   "source": [
    "import random\n",
    "\n",
    "player_score, computer_score = 0, 0\n",
    "computer_choice = 1\n",
    "\n",
    "def print_result(winner = \"Bilgisayar\"):\n",
    "    global computer_score, player_score\n",
    "    print(f\"Bilgisayarın seçimi {computer_choice}\\nKazanan: {winner}\")\n",
    "    \n",
    "    if winner == \"Bilgisayar\":\n",
    "        computer_score += 100\n",
    "    else :\n",
    "        player_score += 100\n",
    "    \n",
    "    print(\"Taş kağıt makas oyununa hoş geldiniz!\\n\" + (\"-\"*39))\n",
    " \n",
    "while True:\n",
    "    print(\"\\n 1 -> Taş\\n 2 -> Kağıt\\n 3 -> Makas\\n Oyundan çıkmak için -> 4\")\n",
    "    player_choice = int(input(\"Seçiminizi Yapınız: \"))\n",
    "    computer_choice = random.choice([1, 2, 3])\n",
    "    \n",
    "    if player_choice == computer_choice:\n",
    "        print(\"Berabere, yeniden oynayınız\")\n",
    "    elif player_choice == 1:\n",
    "        if computer_choice == 2:\n",
    "            print_result()\n",
    "        else: \n",
    "            print_result(\"Oyuncu\")\n",
    "    elif player_choice == 2:\n",
    "        if computer_choice == 1:\n",
    "            print_result(\"Oyuncu\")\n",
    "        else: \n",
    "         print_result()\n",
    "    elif player_choice == 3:\n",
    "        if computer_choice == 1:\n",
    "            print_result()\n",
    "        else:\n",
    "            print_result(\"Oyuncu\")\n",
    "    elif player_choice == 4 :\n",
    "        print(\"\\nOyunu bitirdiniz.\")\n",
    "        break\n",
    "        \n",
    "        \n",
    "    \n",
    "print(f'\\nKullanıcı skoru: {player_score}\\nBilgisayarın skoru: {computer_score}\"')\n",
    "if player_score < computer_score:\n",
    "    print(f\"Bilgisayar {computer_score - player_score} farkla oyuncuyu yenmiştir.\")\n",
    "elif player_score > computer_score:\n",
    "    print(f\"Oyuncu {player_score- computer_score} farkla bilgisayarı yenmiştir\")\n",
    "else:\n",
    "    print(\"Oyun berabere!\")"
   ]
  }
 ],
 "metadata": {
  "interpreter": {
   "hash": "ba57b5c07cad94e5433208df9cadbee49a44e5bdb5807e0776fdc905c4d111fd"
  },
  "kernelspec": {
   "display_name": "Python 3.9.13 64-bit (windows store)",
   "language": "python",
   "name": "python3"
  },
  "language_info": {
   "name": "python",
   "version": "3.9.13"
  },
  "orig_nbformat": 4
 },
 "nbformat": 4,
 "nbformat_minor": 2
}
